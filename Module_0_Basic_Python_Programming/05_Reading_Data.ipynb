{
 "cells": [
  {
   "cell_type": "code",
   "execution_count": null,
   "metadata": {},
   "outputs": [],
   "source": [
    "import pandas as pd \n",
    "import json\n",
    "DATA_DIR = \"./data/\""
   ]
  },
  {
   "cell_type": "markdown",
   "metadata": {},
   "source": [
    "# Handling different file formats"
   ]
  },
  {
   "cell_type": "markdown",
   "metadata": {},
   "source": [
    "On top of varying data types data scientists also have to deal with different file formats. In this notebook we will be exploring common file formats you may encounter and how to read them for your data analysis and modeling. "
   ]
  },
  {
   "cell_type": "markdown",
   "metadata": {},
   "source": [
    "# CSV Files"
   ]
  },
  {
   "cell_type": "markdown",
   "metadata": {},
   "source": [
    "CSV stands for comma separated values, a comma is used to sepparate values and usually has a `.csv` as an extension.\n",
    "\n",
    "To read in a CSV file, you simply use the function from `pandas` and pass the filepath or filename of the CSV file.\n",
    "\n",
    "```python\n",
    "df = pd.read_csv(filename)\n",
    "df.head()\n",
    "```"
   ]
  },
  {
   "cell_type": "markdown",
   "metadata": {},
   "source": [
    "# Excel Files"
   ]
  },
  {
   "cell_type": "markdown",
   "metadata": {},
   "source": [
    "This is similar to a csv file but the file was created using Microsoft Excel. File extensions being used for this are `.xls` & `.xlsx`\n",
    "\n",
    "```python\n",
    "df = pd.read_excel(name, sheetname = 'Test')\n",
    "df.head()\n",
    "```"
   ]
  },
  {
   "cell_type": "markdown",
   "metadata": {},
   "source": [
    "# Text Files"
   ]
  },
  {
   "cell_type": "markdown",
   "metadata": {},
   "source": [
    "This file contains text without any meta-data (ex. font, font size, bold & etc). File extension usually used is `.txt`\n",
    "\n",
    "You can read the text file line by line which gives returns a list"
   ]
  },
  {
   "cell_type": "code",
   "execution_count": 2,
   "metadata": {},
   "outputs": [
    {
     "name": "stdout",
     "output_type": "stream",
     "text": [
      "Lorem ipsum dolor sit amet, consectetur adipiscing elit. Nunc fringilla bibendum nunc, at aliquet odio ultricies id. In hac habitasse platea dictumst. Fusce id mi lacinia eros pellentesque molestie nec ut quam. Aliquam erat volutpat. Aliquam erat volutpat. Aenean vitae mi quis mauris vestibulum euismod et egestas sapien. Morbi aliquam euismod metus, at sodales felis congue quis. Vestibulum bibendum lobortis arcu, vel mattis dui rutrum non. Etiam tempor mi non nibh consequat, ut venenatis sem dictum. Nullam sagittis libero vel felis iaculis varius sit amet fermentum diam. Donec at tortor non felis ultrices sollicitudin.\n",
      "\n",
      "\n",
      "\n",
      "Nulla interdum dignissim urna, id auctor sapien. Integer in rhoncus arcu. Vestibulum at gravida velit. Ut pharetra ultricies elit sed consequat. Mauris laoreet eleifend auctor. Nulla scelerisque commodo dictum. Donec varius mauris eu mollis convallis. Phasellus id dictum mi. Etiam luctus mattis arcu, commodo maximus purus sodales vel. Nam justo ex, volutpat in eros eget, accumsan vehicula nulla. In bibendum eros quis orci tincidunt dignissim in nec nibh. Nullam fermentum, dui vel dictum tempus, nulla purus convallis erat, a vestibulum quam erat eu ligula. Fusce pharetra, lectus vitae placerat efficitur, lacus massa ullamcorper ipsum, quis commodo massa est id leo. Nulla facilisi. Suspendisse volutpat mauris felis, non imperdiet purus porta eu.\n",
      "\n"
     ]
    }
   ],
   "source": [
    "text_file = open(DATA_DIR + \"test.txt\", \"r\")\n",
    "\n",
    "lines = text_file.readlines()\n",
    "for line in lines:\n",
    "    print(line)\n",
    "text_file.close()"
   ]
  },
  {
   "cell_type": "markdown",
   "metadata": {},
   "source": [
    "You can also read the text file as a whole which returns a string \n"
   ]
  },
  {
   "cell_type": "code",
   "execution_count": 3,
   "metadata": {},
   "outputs": [
    {
     "name": "stdout",
     "output_type": "stream",
     "text": [
      "Lorem ipsum dolor sit amet, consectetur adipiscing elit. Nunc fringilla bibendum nunc, at aliquet odio ultricies id. In hac habitasse platea dictumst. Fusce id mi lacinia eros pellentesque molestie nec ut quam. Aliquam erat volutpat. Aliquam erat volutpat. Aenean vitae mi quis mauris vestibulum euismod et egestas sapien. Morbi aliquam euismod metus, at sodales felis congue quis. Vestibulum bibendum lobortis arcu, vel mattis dui rutrum non. Etiam tempor mi non nibh consequat, ut venenatis sem dictum. Nullam sagittis libero vel felis iaculis varius sit amet fermentum diam. Donec at tortor non felis ultrices sollicitudin.\n",
      "\n",
      "Nulla interdum dignissim urna, id auctor sapien. Integer in rhoncus arcu. Vestibulum at gravida velit. Ut pharetra ultricies elit sed consequat. Mauris laoreet eleifend auctor. Nulla scelerisque commodo dictum. Donec varius mauris eu mollis convallis. Phasellus id dictum mi. Etiam luctus mattis arcu, commodo maximus purus sodales vel. Nam justo ex, volutpat in eros eget, accumsan vehicula nulla. In bibendum eros quis orci tincidunt dignissim in nec nibh. Nullam fermentum, dui vel dictum tempus, nulla purus convallis erat, a vestibulum quam erat eu ligula. Fusce pharetra, lectus vitae placerat efficitur, lacus massa ullamcorper ipsum, quis commodo massa est id leo. Nulla facilisi. Suspendisse volutpat mauris felis, non imperdiet purus porta eu.\n",
      "\n"
     ]
    }
   ],
   "source": [
    "text_file = open(DATA_DIR + \"test.txt\", \"r\")\n",
    "lines = text_file.read()\n",
    "print(lines)\n",
    "text_file.close()"
   ]
  },
  {
   "cell_type": "markdown",
   "metadata": {},
   "source": [
    "# JSON Files"
   ]
  },
  {
   "cell_type": "markdown",
   "metadata": {},
   "source": [
    "JSON stands for JavaScript Object Notation. It is a file format usually used to exchange information on the web. The file extension commonly used in `.json`. \n",
    "\n",
    "If you observe the script below we are using the `with` statement. This helps us in our file handling by automatically closing the file being read after the `with` code block. This makes our code much cleaner. In essence, it is best practice that when we open a file we close after using it because it will be inaccessible to other resources. *Kaya closure is important*"
   ]
  },
  {
   "cell_type": "code",
   "execution_count": 4,
   "metadata": {},
   "outputs": [
    {
     "data": {
      "text/plain": [
       "{'text': 'RT @PostGradProblem: In preparation for the NFL lockout, I will be spending twice as much time analyzing my fantasy baseball team during ...',\n",
       " 'truncated': True,\n",
       " 'in_reply_to_user_id': None,\n",
       " 'in_reply_to_status_id': None,\n",
       " 'favorited': False,\n",
       " 'source': '<a href=\"http://twitter.com/\" rel=\"nofollow\">Twitter for iPhone</a>',\n",
       " 'in_reply_to_screen_name': None,\n",
       " 'in_reply_to_status_id_str': None,\n",
       " 'id_str': '54691802283900928',\n",
       " 'entities': {'user_mentions': [{'indices': [3, 19],\n",
       "    'screen_name': 'PostGradProblem',\n",
       "    'id_str': '271572434',\n",
       "    'name': 'PostGradProblems',\n",
       "    'id': 271572434}],\n",
       "  'urls': [],\n",
       "  'hashtags': []},\n",
       " 'contributors': None,\n",
       " 'retweeted': False,\n",
       " 'in_reply_to_user_id_str': None,\n",
       " 'place': None,\n",
       " 'retweet_count': 4,\n",
       " 'created_at': 'Sun Apr 03 23:48:36 +0000 2011',\n",
       " 'retweeted_status': {'text': 'In preparation for the NFL lockout, I will be spending twice as much time analyzing my fantasy baseball team during company time. #PGP',\n",
       "  'truncated': False,\n",
       "  'in_reply_to_user_id': None,\n",
       "  'in_reply_to_status_id': None,\n",
       "  'favorited': False,\n",
       "  'source': '<a href=\"http://www.hootsuite.com\" rel=\"nofollow\">HootSuite</a>',\n",
       "  'in_reply_to_screen_name': None,\n",
       "  'in_reply_to_status_id_str': None,\n",
       "  'id_str': '54640519019642881',\n",
       "  'entities': {'user_mentions': [],\n",
       "   'urls': [],\n",
       "   'hashtags': [{'text': 'PGP', 'indices': [130, 134]}]},\n",
       "  'contributors': None,\n",
       "  'retweeted': False,\n",
       "  'in_reply_to_user_id_str': None,\n",
       "  'place': None,\n",
       "  'retweet_count': 4,\n",
       "  'created_at': 'Sun Apr 03 20:24:49 +0000 2011',\n",
       "  'user': {'notifications': None,\n",
       "   'profile_use_background_image': True,\n",
       "   'statuses_count': 31,\n",
       "   'profile_background_color': 'C0DEED',\n",
       "   'followers_count': 3066,\n",
       "   'profile_image_url': 'http://a2.twimg.com/profile_images/1285770264/PGP_normal.jpg',\n",
       "   'listed_count': 6,\n",
       "   'profile_background_image_url': 'http://a3.twimg.com/a/1301071706/images/themes/theme1/bg.png',\n",
       "   'description': '',\n",
       "   'screen_name': 'PostGradProblem',\n",
       "   'default_profile': True,\n",
       "   'verified': False,\n",
       "   'time_zone': None,\n",
       "   'profile_text_color': '333333',\n",
       "   'is_translator': False,\n",
       "   'profile_sidebar_fill_color': 'DDEEF6',\n",
       "   'location': '',\n",
       "   'id_str': '271572434',\n",
       "   'default_profile_image': False,\n",
       "   'profile_background_tile': False,\n",
       "   'lang': 'en',\n",
       "   'friends_count': 21,\n",
       "   'protected': False,\n",
       "   'favourites_count': 0,\n",
       "   'created_at': 'Thu Mar 24 19:45:44 +0000 2011',\n",
       "   'profile_link_color': '0084B4',\n",
       "   'name': 'PostGradProblems',\n",
       "   'show_all_inline_media': False,\n",
       "   'follow_request_sent': None,\n",
       "   'geo_enabled': False,\n",
       "   'profile_sidebar_border_color': 'C0DEED',\n",
       "   'url': None,\n",
       "   'id': 271572434,\n",
       "   'contributors_enabled': False,\n",
       "   'following': None,\n",
       "   'utc_offset': None},\n",
       "  'id': 54640519019642880,\n",
       "  'coordinates': None,\n",
       "  'geo': None},\n",
       " 'user': {'notifications': None,\n",
       "  'profile_use_background_image': True,\n",
       "  'statuses_count': 351,\n",
       "  'profile_background_color': 'C0DEED',\n",
       "  'followers_count': 48,\n",
       "  'profile_image_url': 'http://a1.twimg.com/profile_images/455128973/gCsVUnofNqqyd6tdOGevROvko1_500_normal.jpg',\n",
       "  'listed_count': 0,\n",
       "  'profile_background_image_url': 'http://a3.twimg.com/a/1300479984/images/themes/theme1/bg.png',\n",
       "  'description': 'watcha doin in my waters?',\n",
       "  'screen_name': 'OldGREG85',\n",
       "  'default_profile': True,\n",
       "  'verified': False,\n",
       "  'time_zone': 'Hawaii',\n",
       "  'profile_text_color': '333333',\n",
       "  'is_translator': False,\n",
       "  'profile_sidebar_fill_color': 'DDEEF6',\n",
       "  'location': 'Texas',\n",
       "  'id_str': '80177619',\n",
       "  'default_profile_image': False,\n",
       "  'profile_background_tile': False,\n",
       "  'lang': 'en',\n",
       "  'friends_count': 81,\n",
       "  'protected': False,\n",
       "  'favourites_count': 0,\n",
       "  'created_at': 'Tue Oct 06 01:13:17 +0000 2009',\n",
       "  'profile_link_color': '0084B4',\n",
       "  'name': 'GG',\n",
       "  'show_all_inline_media': False,\n",
       "  'follow_request_sent': None,\n",
       "  'geo_enabled': False,\n",
       "  'profile_sidebar_border_color': 'C0DEED',\n",
       "  'url': None,\n",
       "  'id': 80177619,\n",
       "  'contributors_enabled': False,\n",
       "  'following': None,\n",
       "  'utc_offset': -36000},\n",
       " 'id': 54691802283900930,\n",
       " 'coordinates': None,\n",
       " 'geo': None}"
      ]
     },
     "metadata": {},
     "output_type": "display_data"
    }
   ],
   "source": [
    "import json\n",
    "with open(DATA_DIR + \"twitter.json\", 'r') as json_file:\n",
    "    json_data = json.load(json_file)\n",
    "    display(json_data)"
   ]
  },
  {
   "cell_type": "markdown",
   "metadata": {},
   "source": [
    "If you are curious as to how the script would look like without the `with` statement, it should look like this."
   ]
  },
  {
   "cell_type": "code",
   "execution_count": 5,
   "metadata": {},
   "outputs": [
    {
     "data": {
      "text/plain": [
       "{'text': 'RT @PostGradProblem: In preparation for the NFL lockout, I will be spending twice as much time analyzing my fantasy baseball team during ...',\n",
       " 'truncated': True,\n",
       " 'in_reply_to_user_id': None,\n",
       " 'in_reply_to_status_id': None,\n",
       " 'favorited': False,\n",
       " 'source': '<a href=\"http://twitter.com/\" rel=\"nofollow\">Twitter for iPhone</a>',\n",
       " 'in_reply_to_screen_name': None,\n",
       " 'in_reply_to_status_id_str': None,\n",
       " 'id_str': '54691802283900928',\n",
       " 'entities': {'user_mentions': [{'indices': [3, 19],\n",
       "    'screen_name': 'PostGradProblem',\n",
       "    'id_str': '271572434',\n",
       "    'name': 'PostGradProblems',\n",
       "    'id': 271572434}],\n",
       "  'urls': [],\n",
       "  'hashtags': []},\n",
       " 'contributors': None,\n",
       " 'retweeted': False,\n",
       " 'in_reply_to_user_id_str': None,\n",
       " 'place': None,\n",
       " 'retweet_count': 4,\n",
       " 'created_at': 'Sun Apr 03 23:48:36 +0000 2011',\n",
       " 'retweeted_status': {'text': 'In preparation for the NFL lockout, I will be spending twice as much time analyzing my fantasy baseball team during company time. #PGP',\n",
       "  'truncated': False,\n",
       "  'in_reply_to_user_id': None,\n",
       "  'in_reply_to_status_id': None,\n",
       "  'favorited': False,\n",
       "  'source': '<a href=\"http://www.hootsuite.com\" rel=\"nofollow\">HootSuite</a>',\n",
       "  'in_reply_to_screen_name': None,\n",
       "  'in_reply_to_status_id_str': None,\n",
       "  'id_str': '54640519019642881',\n",
       "  'entities': {'user_mentions': [],\n",
       "   'urls': [],\n",
       "   'hashtags': [{'text': 'PGP', 'indices': [130, 134]}]},\n",
       "  'contributors': None,\n",
       "  'retweeted': False,\n",
       "  'in_reply_to_user_id_str': None,\n",
       "  'place': None,\n",
       "  'retweet_count': 4,\n",
       "  'created_at': 'Sun Apr 03 20:24:49 +0000 2011',\n",
       "  'user': {'notifications': None,\n",
       "   'profile_use_background_image': True,\n",
       "   'statuses_count': 31,\n",
       "   'profile_background_color': 'C0DEED',\n",
       "   'followers_count': 3066,\n",
       "   'profile_image_url': 'http://a2.twimg.com/profile_images/1285770264/PGP_normal.jpg',\n",
       "   'listed_count': 6,\n",
       "   'profile_background_image_url': 'http://a3.twimg.com/a/1301071706/images/themes/theme1/bg.png',\n",
       "   'description': '',\n",
       "   'screen_name': 'PostGradProblem',\n",
       "   'default_profile': True,\n",
       "   'verified': False,\n",
       "   'time_zone': None,\n",
       "   'profile_text_color': '333333',\n",
       "   'is_translator': False,\n",
       "   'profile_sidebar_fill_color': 'DDEEF6',\n",
       "   'location': '',\n",
       "   'id_str': '271572434',\n",
       "   'default_profile_image': False,\n",
       "   'profile_background_tile': False,\n",
       "   'lang': 'en',\n",
       "   'friends_count': 21,\n",
       "   'protected': False,\n",
       "   'favourites_count': 0,\n",
       "   'created_at': 'Thu Mar 24 19:45:44 +0000 2011',\n",
       "   'profile_link_color': '0084B4',\n",
       "   'name': 'PostGradProblems',\n",
       "   'show_all_inline_media': False,\n",
       "   'follow_request_sent': None,\n",
       "   'geo_enabled': False,\n",
       "   'profile_sidebar_border_color': 'C0DEED',\n",
       "   'url': None,\n",
       "   'id': 271572434,\n",
       "   'contributors_enabled': False,\n",
       "   'following': None,\n",
       "   'utc_offset': None},\n",
       "  'id': 54640519019642880,\n",
       "  'coordinates': None,\n",
       "  'geo': None},\n",
       " 'user': {'notifications': None,\n",
       "  'profile_use_background_image': True,\n",
       "  'statuses_count': 351,\n",
       "  'profile_background_color': 'C0DEED',\n",
       "  'followers_count': 48,\n",
       "  'profile_image_url': 'http://a1.twimg.com/profile_images/455128973/gCsVUnofNqqyd6tdOGevROvko1_500_normal.jpg',\n",
       "  'listed_count': 0,\n",
       "  'profile_background_image_url': 'http://a3.twimg.com/a/1300479984/images/themes/theme1/bg.png',\n",
       "  'description': 'watcha doin in my waters?',\n",
       "  'screen_name': 'OldGREG85',\n",
       "  'default_profile': True,\n",
       "  'verified': False,\n",
       "  'time_zone': 'Hawaii',\n",
       "  'profile_text_color': '333333',\n",
       "  'is_translator': False,\n",
       "  'profile_sidebar_fill_color': 'DDEEF6',\n",
       "  'location': 'Texas',\n",
       "  'id_str': '80177619',\n",
       "  'default_profile_image': False,\n",
       "  'profile_background_tile': False,\n",
       "  'lang': 'en',\n",
       "  'friends_count': 81,\n",
       "  'protected': False,\n",
       "  'favourites_count': 0,\n",
       "  'created_at': 'Tue Oct 06 01:13:17 +0000 2009',\n",
       "  'profile_link_color': '0084B4',\n",
       "  'name': 'GG',\n",
       "  'show_all_inline_media': False,\n",
       "  'follow_request_sent': None,\n",
       "  'geo_enabled': False,\n",
       "  'profile_sidebar_border_color': 'C0DEED',\n",
       "  'url': None,\n",
       "  'id': 80177619,\n",
       "  'contributors_enabled': False,\n",
       "  'following': None,\n",
       "  'utc_offset': -36000},\n",
       " 'id': 54691802283900930,\n",
       " 'coordinates': None,\n",
       " 'geo': None}"
      ]
     },
     "metadata": {},
     "output_type": "display_data"
    }
   ],
   "source": [
    "json_file = open(DATA_DIR + \"twitter.json\", 'r')\n",
    "json_data = json.load(json_file)\n",
    "display(json_data)\n",
    "json_file.close()"
   ]
  },
  {
   "cell_type": "markdown",
   "metadata": {},
   "source": [
    "Once this file has been loaded, python treats it like any dictionary. Therefore the syntax to extract information from the json file is similar to any python dictionary. "
   ]
  },
  {
   "cell_type": "code",
   "execution_count": 6,
   "metadata": {},
   "outputs": [
    {
     "name": "stdout",
     "output_type": "stream",
     "text": [
      "Twitter Handle:GG\n",
      "Tweet:RT @PostGradProblem: In preparation for the NFL lockout, I will be spending twice as much time analyzing my fantasy baseball team during ...\n",
      "Date Created:Sun Apr 03 23:48:36 +0000 2011\n",
      "Retweet Count:4\n"
     ]
    }
   ],
   "source": [
    "print(\"Twitter Handle:\" + json_data['user']['name'])\n",
    "print(\"Tweet:\" + json_data['text'])\n",
    "print(\"Date Created:\" + json_data['created_at'])\n",
    "print(\"Retweet Count:\" + str(json_data['retweet_count']))"
   ]
  },
  {
   "cell_type": "markdown",
   "metadata": {},
   "source": [
    "# Zip files"
   ]
  },
  {
   "cell_type": "markdown",
   "metadata": {},
   "source": [
    "Zip is an archive file format with a lossless data compression. This means that the file is compressed to a smaller size but can be extracted back to its original size without any loss of information. The common file extension for this is `.zip`"
   ]
  },
  {
   "cell_type": "code",
   "execution_count": 7,
   "metadata": {},
   "outputs": [
    {
     "name": "stdout",
     "output_type": "stream",
     "text": [
      "File Name                                             Modified             Size\n",
      "gender_submission.csv                          2019-12-11 02:17:12         3258\n",
      "test.csv                                       2019-12-11 02:17:12        28629\n",
      "train.csv                                      2019-12-11 02:17:12        61194\n"
     ]
    }
   ],
   "source": [
    "from zipfile import ZipFile\n",
    "with ZipFile(DATA_DIR + \"titanic.zip\", 'r') as zip_file:\n",
    "    zip_file.printdir()\n",
    "    \n",
    "    #extract a specific file to a specified directory \n",
    "    zip_file.extract('gender_submission.csv', DATA_DIR)\n",
    "    \n",
    "    #extract all files to a specified directory\n",
    "    zip_file.extractall(DATA_DIR)"
   ]
  },
  {
   "cell_type": "markdown",
   "metadata": {},
   "source": [
    "It is also possible to read files without extracting them."
   ]
  },
  {
   "cell_type": "code",
   "execution_count": 8,
   "metadata": {},
   "outputs": [
    {
     "data": {
      "text/html": [
       "<div>\n",
       "<style scoped>\n",
       "    .dataframe tbody tr th:only-of-type {\n",
       "        vertical-align: middle;\n",
       "    }\n",
       "\n",
       "    .dataframe tbody tr th {\n",
       "        vertical-align: top;\n",
       "    }\n",
       "\n",
       "    .dataframe thead th {\n",
       "        text-align: right;\n",
       "    }\n",
       "</style>\n",
       "<table border=\"1\" class=\"dataframe\">\n",
       "  <thead>\n",
       "    <tr style=\"text-align: right;\">\n",
       "      <th></th>\n",
       "      <th>PassengerId</th>\n",
       "      <th>Pclass</th>\n",
       "      <th>Name</th>\n",
       "      <th>Sex</th>\n",
       "      <th>Age</th>\n",
       "      <th>SibSp</th>\n",
       "      <th>Parch</th>\n",
       "      <th>Ticket</th>\n",
       "      <th>Fare</th>\n",
       "      <th>Cabin</th>\n",
       "      <th>Embarked</th>\n",
       "    </tr>\n",
       "  </thead>\n",
       "  <tbody>\n",
       "    <tr>\n",
       "      <th>0</th>\n",
       "      <td>892</td>\n",
       "      <td>3</td>\n",
       "      <td>Kelly, Mr. James</td>\n",
       "      <td>male</td>\n",
       "      <td>34.5</td>\n",
       "      <td>0</td>\n",
       "      <td>0</td>\n",
       "      <td>330911</td>\n",
       "      <td>7.8292</td>\n",
       "      <td>NaN</td>\n",
       "      <td>Q</td>\n",
       "    </tr>\n",
       "    <tr>\n",
       "      <th>1</th>\n",
       "      <td>893</td>\n",
       "      <td>3</td>\n",
       "      <td>Wilkes, Mrs. James (Ellen Needs)</td>\n",
       "      <td>female</td>\n",
       "      <td>47.0</td>\n",
       "      <td>1</td>\n",
       "      <td>0</td>\n",
       "      <td>363272</td>\n",
       "      <td>7.0000</td>\n",
       "      <td>NaN</td>\n",
       "      <td>S</td>\n",
       "    </tr>\n",
       "    <tr>\n",
       "      <th>2</th>\n",
       "      <td>894</td>\n",
       "      <td>2</td>\n",
       "      <td>Myles, Mr. Thomas Francis</td>\n",
       "      <td>male</td>\n",
       "      <td>62.0</td>\n",
       "      <td>0</td>\n",
       "      <td>0</td>\n",
       "      <td>240276</td>\n",
       "      <td>9.6875</td>\n",
       "      <td>NaN</td>\n",
       "      <td>Q</td>\n",
       "    </tr>\n",
       "    <tr>\n",
       "      <th>3</th>\n",
       "      <td>895</td>\n",
       "      <td>3</td>\n",
       "      <td>Wirz, Mr. Albert</td>\n",
       "      <td>male</td>\n",
       "      <td>27.0</td>\n",
       "      <td>0</td>\n",
       "      <td>0</td>\n",
       "      <td>315154</td>\n",
       "      <td>8.6625</td>\n",
       "      <td>NaN</td>\n",
       "      <td>S</td>\n",
       "    </tr>\n",
       "    <tr>\n",
       "      <th>4</th>\n",
       "      <td>896</td>\n",
       "      <td>3</td>\n",
       "      <td>Hirvonen, Mrs. Alexander (Helga E Lindqvist)</td>\n",
       "      <td>female</td>\n",
       "      <td>22.0</td>\n",
       "      <td>1</td>\n",
       "      <td>1</td>\n",
       "      <td>3101298</td>\n",
       "      <td>12.2875</td>\n",
       "      <td>NaN</td>\n",
       "      <td>S</td>\n",
       "    </tr>\n",
       "  </tbody>\n",
       "</table>\n",
       "</div>"
      ],
      "text/plain": [
       "   PassengerId  Pclass                                          Name     Sex  \\\n",
       "0          892       3                              Kelly, Mr. James    male   \n",
       "1          893       3              Wilkes, Mrs. James (Ellen Needs)  female   \n",
       "2          894       2                     Myles, Mr. Thomas Francis    male   \n",
       "3          895       3                              Wirz, Mr. Albert    male   \n",
       "4          896       3  Hirvonen, Mrs. Alexander (Helga E Lindqvist)  female   \n",
       "\n",
       "    Age  SibSp  Parch   Ticket     Fare Cabin Embarked  \n",
       "0  34.5      0      0   330911   7.8292   NaN        Q  \n",
       "1  47.0      1      0   363272   7.0000   NaN        S  \n",
       "2  62.0      0      0   240276   9.6875   NaN        Q  \n",
       "3  27.0      0      0   315154   8.6625   NaN        S  \n",
       "4  22.0      1      1  3101298  12.2875   NaN        S  "
      ]
     },
     "metadata": {},
     "output_type": "display_data"
    }
   ],
   "source": [
    "with ZipFile(DATA_DIR + \"titanic.zip\", 'r') as zip_file:\n",
    "    df = pd.read_csv(zip_file.open('test.csv'))\n",
    "    display(df.head())"
   ]
  },
  {
   "cell_type": "code",
   "execution_count": 9,
   "metadata": {},
   "outputs": [
    {
     "name": "stdout",
     "output_type": "stream",
     "text": [
      "gender_submission.csv test.txt              train.csv\n",
      "test.csv              titanic.zip           twitter.json\n"
     ]
    }
   ],
   "source": [
    "! ls \"./data/\""
   ]
  },
  {
   "cell_type": "code",
   "execution_count": null,
   "metadata": {},
   "outputs": [],
   "source": []
  }
 ],
 "metadata": {
  "kernelspec": {
   "display_name": "Python 3",
   "language": "python",
   "name": "python3"
  },
  "language_info": {
   "codemirror_mode": {
    "name": "ipython",
    "version": 3
   },
   "file_extension": ".py",
   "mimetype": "text/x-python",
   "name": "python",
   "nbconvert_exporter": "python",
   "pygments_lexer": "ipython3",
   "version": "3.8.5"
  }
 },
 "nbformat": 4,
 "nbformat_minor": 4
}
